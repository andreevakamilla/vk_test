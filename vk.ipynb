{
 "cells": [
  {
   "cell_type": "code",
   "execution_count": 74,
   "metadata": {},
   "outputs": [],
   "source": [
    "import pandas as pd\n",
    "import matplotlib.pyplot as plt\n",
    "import seaborn as sns"
   ]
  },
  {
   "cell_type": "code",
   "execution_count": 75,
   "metadata": {},
   "outputs": [],
   "source": [
    "df = pd.read_csv('analytics_test.csv')"
   ]
  },
  {
   "cell_type": "code",
   "execution_count": 76,
   "metadata": {},
   "outputs": [
    {
     "name": "stdout",
     "output_type": "stream",
     "text": [
      "   Unnamed: 0   user_id     sex  age    platform  query_id  \\\n",
      "0           0  96422511  female   68     android  89656828   \n",
      "1           1  45247030    male   62  android_tv  89784877   \n",
      "2           2  79572413    male   12         web  10555855   \n",
      "3           3    821317  female   58  android_tv  72054848   \n",
      "4           4   6206023  female   24     android  20838049   \n",
      "\n",
      "                       query_text query_type      event  click_position  \\\n",
      "0    передачи о новых технологиях       show      share               6   \n",
      "1               автопрому новости       news     search               0   \n",
      "2  логистическое законодательство       news     search               0   \n",
      "3       банковские премии новости       news     search               0   \n",
      "4                 вики шоу аманда       show  subscribe               7   \n",
      "\n",
      "   doc_type  view_time  \n",
      "0  playlist          0  \n",
      "1       NaN          0  \n",
      "2       NaN          0  \n",
      "3       NaN          0  \n",
      "4    author          0  \n"
     ]
    }
   ],
   "source": [
    "print(df.head())"
   ]
  },
  {
   "cell_type": "code",
   "execution_count": 77,
   "metadata": {},
   "outputs": [
    {
     "name": "stdout",
     "output_type": "stream",
     "text": [
      "<class 'pandas.core.frame.DataFrame'>\n",
      "RangeIndex: 20000 entries, 0 to 19999\n",
      "Data columns (total 12 columns):\n",
      " #   Column          Non-Null Count  Dtype \n",
      "---  ------          --------------  ----- \n",
      " 0   Unnamed: 0      20000 non-null  int64 \n",
      " 1   user_id         20000 non-null  int64 \n",
      " 2   sex             20000 non-null  object\n",
      " 3   age             20000 non-null  int64 \n",
      " 4   platform        20000 non-null  object\n",
      " 5   query_id        20000 non-null  int64 \n",
      " 6   query_text      20000 non-null  object\n",
      " 7   query_type      20000 non-null  object\n",
      " 8   event           20000 non-null  object\n",
      " 9   click_position  20000 non-null  int64 \n",
      " 10  doc_type        15042 non-null  object\n",
      " 11  view_time       20000 non-null  int64 \n",
      "dtypes: int64(6), object(6)\n",
      "memory usage: 1.8+ MB\n",
      "None\n"
     ]
    }
   ],
   "source": [
    "print(df.info())"
   ]
  },
  {
   "cell_type": "markdown",
   "metadata": {},
   "source": [
    "### Предобработка"
   ]
  },
  {
   "cell_type": "code",
   "execution_count": 78,
   "metadata": {},
   "outputs": [],
   "source": [
    "#на всякий случай приведем к нижнему регистру\n",
    "\n",
    "df['query_text'] = df['query_text'].str.lower()\n",
    "df['query_type'] = df['query_type'].str.lower()\n",
    "df['event'] = df['event'].str.lower()\n",
    "df['doc_type'] = df['doc_type'].str.lower()"
   ]
  },
  {
   "cell_type": "code",
   "execution_count": 79,
   "metadata": {},
   "outputs": [],
   "source": [
    "df['doc_type'] = df['doc_type'].fillna('unknown')"
   ]
  },
  {
   "cell_type": "code",
   "execution_count": 80,
   "metadata": {},
   "outputs": [],
   "source": [
    "df = df[df['view_time'] >= 0]"
   ]
  },
  {
   "cell_type": "code",
   "execution_count": 81,
   "metadata": {},
   "outputs": [],
   "source": [
    "df['click_position'] = pd.to_numeric(df['click_position'], errors='coerce').fillna(-1).astype(int)"
   ]
  },
  {
   "cell_type": "code",
   "execution_count": 82,
   "metadata": {},
   "outputs": [
    {
     "name": "stdout",
     "output_type": "stream",
     "text": [
      "<class 'pandas.core.frame.DataFrame'>\n",
      "RangeIndex: 20000 entries, 0 to 19999\n",
      "Data columns (total 12 columns):\n",
      " #   Column          Non-Null Count  Dtype \n",
      "---  ------          --------------  ----- \n",
      " 0   Unnamed: 0      20000 non-null  int64 \n",
      " 1   user_id         20000 non-null  int64 \n",
      " 2   sex             20000 non-null  object\n",
      " 3   age             20000 non-null  int64 \n",
      " 4   platform        20000 non-null  object\n",
      " 5   query_id        20000 non-null  int64 \n",
      " 6   query_text      20000 non-null  object\n",
      " 7   query_type      20000 non-null  object\n",
      " 8   event           20000 non-null  object\n",
      " 9   click_position  20000 non-null  int64 \n",
      " 10  doc_type        20000 non-null  object\n",
      " 11  view_time       20000 non-null  int64 \n",
      "dtypes: int64(6), object(6)\n",
      "memory usage: 1.8+ MB\n"
     ]
    }
   ],
   "source": [
    "df.info()"
   ]
  },
  {
   "cell_type": "markdown",
   "metadata": {},
   "source": [
    "### Метрики"
   ]
  },
  {
   "cell_type": "markdown",
   "metadata": {},
   "source": [
    "### По Query_type"
   ]
  },
  {
   "cell_type": "code",
   "execution_count": 98,
   "metadata": {},
   "outputs": [
    {
     "name": "stdout",
     "output_type": "stream",
     "text": [
      "  query_type       CTR  View Rate\n",
      "0       show  0.038678   0.012893\n",
      "2      music  0.028525   0.010595\n",
      "1       news  0.025974   0.004870\n",
      "3      films  0.000000   0.000000\n"
     ]
    }
   ],
   "source": [
    "import pandas as pd\n",
    "\n",
    "metrics = []\n",
    "\n",
    "query_types = df['query_type'].dropna().unique()\n",
    "\n",
    "for q_type in query_types:\n",
    "    q_ids = df[(df['event'] == 'search') & (df['query_type'] == q_type)]['query_id'].unique()\n",
    "    \n",
    "    if len(q_ids) == 0:\n",
    "        continue  \n",
    "    \n",
    "    related_events = df[df['query_id'].isin(q_ids)]\n",
    "\n",
    "    ctr = related_events[related_events['event'] == 'tap']['query_id'].nunique() / len(q_ids)\n",
    "    view_rate = related_events[related_events['event'] == 'view']['query_id'].nunique() / len(q_ids)\n",
    "\n",
    "\n",
    "    metrics.append({\n",
    "        'query_type': q_type,\n",
    "        'CTR': ctr,\n",
    "        'View Rate': view_rate,\n",
    "    })\n",
    "\n",
    "metrics_df = pd.DataFrame(metrics)\n",
    "print(metrics_df.sort_values(by='CTR', ascending=False))\n"
   ]
  },
  {
   "cell_type": "markdown",
   "metadata": {},
   "source": [
    "Получились странные метрики для \"films\", поэтому я решила рассмотреть их подробнее"
   ]
  },
  {
   "cell_type": "code",
   "execution_count": 84,
   "metadata": {},
   "outputs": [
    {
     "name": "stdout",
     "output_type": "stream",
     "text": [
      "Поисков типа 'films': 1258\n"
     ]
    }
   ],
   "source": [
    "films_search_ids = df[(df['query_type'] == 'films') & (df['event'] == 'search')]['query_id'].unique()\n",
    "print(f\"Поисков типа 'films': {len(films_search_ids)}\")\n"
   ]
  },
  {
   "cell_type": "code",
   "execution_count": 85,
   "metadata": {},
   "outputs": [
    {
     "name": "stdout",
     "output_type": "stream",
     "text": [
      "Всего событий по этим запросам: 1258\n",
      "event\n",
      "search    1258\n",
      "Name: count, dtype: int64\n"
     ]
    }
   ],
   "source": [
    "films_all_events = df[df['query_id'].isin(films_search_ids)]\n",
    "print(f\"Всего событий по этим запросам: {len(films_all_events)}\")\n",
    "print(films_all_events['event'].value_counts())\n"
   ]
  },
  {
   "cell_type": "markdown",
   "metadata": {},
   "source": [
    "Теперь можно объяснить странные метрики, ибо пользователи не смотрели и не кликали ничего после поиска по категории фильмов. Это явный сигнал о низком качестве выдачи или нерелевантности."
   ]
  },
  {
   "cell_type": "markdown",
   "metadata": {},
   "source": [
    "### По Платформам"
   ]
  },
  {
   "cell_type": "code",
   "execution_count": 99,
   "metadata": {},
   "outputs": [
    {
     "name": "stdout",
     "output_type": "stream",
     "text": [
      "     platform       CTR  View Rate\n",
      "2         web  0.004071   0.000000\n",
      "1  android_tv  0.005123   0.002049\n",
      "3    smart_tv  0.006731   0.001923\n",
      "0     android  0.008040   0.000000\n",
      "4      iphone  0.010256   0.004103\n"
     ]
    }
   ],
   "source": [
    "platforms = df['platform'].unique()\n",
    "platform_metrics = []\n",
    "\n",
    "for plat in platforms:\n",
    "    sub = df[df['platform'] == plat]\n",
    "    searches = sub[sub['event'] == 'search']['query_id'].unique()\n",
    "    taps = sub[(sub['event'] == 'tap') & (sub['query_id'].isin(searches))]['query_id'].unique()\n",
    "    views = sub[(sub['event'] == 'view') & (sub['query_id'].isin(searches))]['query_id'].unique()\n",
    "    actions = sub[(sub['event'] != 'search') & (sub['query_id'].isin(searches))]['query_id'].unique()\n",
    "\n",
    "    platform_metrics.append({\n",
    "        'platform': plat,\n",
    "        'CTR': len(taps) / len(searches) if searches.size > 0 else 0,\n",
    "        'View Rate': len(views) / len(searches) if searches.size > 0 else 0,\n",
    "    })\n",
    "\n",
    "platform_df = pd.DataFrame(platform_metrics)\n",
    "print(platform_df.sort_values('CTR'))\n"
   ]
  },
  {
   "cell_type": "markdown",
   "metadata": {},
   "source": [
    "### Посчитаем Bounce Rate для разных факторов"
   ]
  },
  {
   "cell_type": "markdown",
   "metadata": {},
   "source": [
    "### По возрасту"
   ]
  },
  {
   "cell_type": "code",
   "execution_count": 101,
   "metadata": {},
   "outputs": [
    {
     "name": "stdout",
     "output_type": "stream",
     "text": [
      "  age_group       CTR  View Rate\n",
      "4       NaN  0.000000   0.000000\n",
      "3     18-24  0.009569   0.004785\n",
      "5     25-34  0.012238   0.008741\n",
      "6     35-44  0.016978   0.000000\n",
      "7     45-54  0.017825   0.005348\n",
      "0       65+  0.018868   0.003145\n",
      "1     55-64  0.020570   0.003165\n",
      "2       <18  0.021413   0.000000\n"
     ]
    }
   ],
   "source": [
    "df['age_group'] = pd.cut(df['age'], bins=[0, 17, 24, 34, 44, 54, 64, 100],\n",
    "                         labels=['<18', '18-24', '25-34', '35-44', '45-54', '55-64', '65+'])\n",
    "\n",
    "age_metrics = []\n",
    "\n",
    "for group in df['age_group'].unique():\n",
    "    sub = df[df['age_group'] == group]\n",
    "    searches = sub[sub['event'] == 'search']['query_id'].unique()\n",
    "    taps = sub[(sub['event'] == 'tap') & (sub['query_id'].isin(searches))]['query_id'].unique()\n",
    "    views = sub[(sub['event'] == 'view') & (sub['query_id'].isin(searches))]['query_id'].unique()\n",
    "    actions = sub[(sub['event'] != 'search') & (sub['query_id'].isin(searches))]['query_id'].unique()\n",
    "\n",
    "    age_metrics.append({\n",
    "        'age_group': group,\n",
    "        'CTR': len(taps) / len(searches) if searches.size > 0 else 0,\n",
    "        'View Rate': len(views) / len(searches) if searches.size > 0 else 0,\n",
    "    })\n",
    "\n",
    "age_df = pd.DataFrame(age_metrics)\n",
    "print(age_df.sort_values('CTR'))\n"
   ]
  },
  {
   "cell_type": "markdown",
   "metadata": {},
   "source": [
    "Молодые(<18) и возрастные(55+) кликают немного чаще, но всё равно вовлечённость низкая.\n"
   ]
  },
  {
   "cell_type": "code",
   "execution_count": 102,
   "metadata": {},
   "outputs": [
    {
     "name": "stdout",
     "output_type": "stream",
     "text": [
      "\n",
      "Bounce‑rate по query_type (в %):\n",
      " query_type\n",
      "show     58.1\n",
      "music    52.9\n",
      "films    48.5\n",
      "news     43.3\n",
      "Name: bounce, dtype: float64\n",
      "\n",
      "Bounce‑rate по platform (в %):\n",
      " platform\n",
      "android       53.0\n",
      "web           52.3\n",
      "iphone        52.1\n",
      "android_tv    48.5\n",
      "smart_tv      47.1\n",
      "Name: bounce, dtype: float64\n",
      "\n",
      "Bounce‑rate по age_bucket (в %):\n",
      " age_bucket\n",
      "18-24    52.3\n",
      "25-34    52.3\n",
      "65+      51.8\n",
      "35-44    50.9\n",
      "<18      50.4\n",
      "45-54    49.7\n",
      "55-64    49.7\n",
      "Name: bounce, dtype: float64\n"
     ]
    },
    {
     "name": "stderr",
     "output_type": "stream",
     "text": [
      "/tmp/ipykernel_40437/1856867220.py:22: FutureWarning: The default of observed=False is deprecated and will be changed to True in a future version of pandas. Pass observed=False to retain current behavior or observed=True to adopt the future default and silence this warning.\n",
      "  br = (session.groupby(dim)['bounce']\n"
     ]
    }
   ],
   "source": [
    "session = (\n",
    "    df.groupby('query_id')\n",
    "      .agg(\n",
    "        query_type    = ('query_type',  'first'),\n",
    "        platform      = ('platform',    'first'),\n",
    "        age           = ('age',         'first'),\n",
    "        has_tap       = ('event',       lambda ev: 'tap' in set(ev)),\n",
    "        has_view      = ('event',       lambda ev: 'view' in set(ev)),\n",
    "        has_deep      = ('event',       lambda ev: bool({'like','share','subscribe'} & set(ev))),\n",
    "        max_view_time = ('view_time',   'max')\n",
    "      )\n",
    "      .reset_index()\n",
    ")\n",
    "\n",
    "bins   = [0, 17, 24, 34, 44, 54, 64, 100]\n",
    "labels = ['<18','18-24','25-34','35-44','45-54','55-64','65+']\n",
    "session['age_bucket'] = pd.cut(session['age'], bins=bins, labels=labels, right=True)\n",
    "\n",
    "session['bounce'] = (~session['has_tap']) & (session['max_view_time'] <= 5)\n",
    "\n",
    "for dim in ['query_type','platform','age_bucket']:\n",
    "    br = (session.groupby(dim)['bounce']\n",
    "                 .mean()\n",
    "                 .mul(100)\n",
    "                 .round(1)\n",
    "                 .sort_values(ascending=False))\n",
    "    print(f\"\\nBounce‑rate по {dim} (в %):\\n\", br)"
   ]
  },
  {
   "cell_type": "markdown",
   "metadata": {},
   "source": [
    "Более половины пользователей после поиска по шоу ни кликают, ни просматривают видео > 5 с. Разброс по платформам невелик (~6 п.п.), значит основная проблема — алгоритм выдачи и контент, а не конкретный UI. Аудитория 18–34 «сыпется» чаще всего — стоит протестировать для них персонализированную выдачу, добавить фильтры по жанрам/новизне и более яркие превью."
   ]
  },
  {
   "cell_type": "code",
   "execution_count": null,
   "metadata": {},
   "outputs": [
    {
     "name": "stdout",
     "output_type": "stream",
     "text": [
      "\n",
      "Среднее view_time по квантилям длины запроса:\n",
      "   len_bin    view_time\n",
      "0      Q1  3386.185759\n",
      "1      Q2  3992.407806\n",
      "2      Q3  4104.709962\n",
      "3      Q4  5287.944218\n"
     ]
    },
    {
     "name": "stderr",
     "output_type": "stream",
     "text": [
      "/tmp/ipykernel_40437/981604961.py:13: FutureWarning: The default of observed=False is deprecated and will be changed to True in a future version of pandas. Pass observed=False to retain current behavior or observed=True to adopt the future default and silence this warning.\n",
      "  .groupby('len_bin')['view_time']\n"
     ]
    },
    {
     "data": {
      "image/png": "[encoded data removed]",
      "text/plain": [
       "<Figure size 600x400 with 1 Axes>"
      ]
     },
     "metadata": {},
     "output_type": "display_data"
    }
   ],
   "source": [
    "df['query_len'] = df['query_text'].str.len()\n",
    "qtiles = df[df['event']=='search']['query_len'].quantile([0,0.25,0.5,0.75,1]).values\n",
    "df['len_bin'] = pd.cut(\n",
    "    df['query_len'], bins=qtiles, include_lowest=True,\n",
    "    labels=['Q1','Q2','Q3','Q4']\n",
    ")\n",
    "\n",
    "view_by_len = (\n",
    "    df[df['event']=='view']\n",
    "      .groupby('len_bin')['view_time']\n",
    "      .mean()\n",
    "      .reset_index()\n",
    ")\n",
    "\n",
    "print(\"\\nСреднее view_time по квантилям длины запроса:\\n\", view_by_len)\n",
    "\n",
    "plt.figure(figsize=(6,4))\n",
    "plt.plot(view_by_len['len_bin'], view_by_len['view_time'], marker='o')\n",
    "plt.xlabel('Квантиль длины запроса')\n",
    "plt.ylabel('Среднее время просмотра, с')\n",
    "plt.title('Watch‑time vs длина запроса')\n",
    "plt.grid(True)\n",
    "plt.tight_layout()\n",
    "plt.show()"
   ]
  },
  {
   "cell_type": "markdown",
   "metadata": {},
   "source": [
    "Можно заметить, что длинные запросы дают наиболее глубокое вовлечение"
   ]
  },
  {
   "cell_type": "markdown",
   "metadata": {},
   "source": [
    "### Визуализация"
   ]
  },
  {
   "cell_type": "code",
   "execution_count": 89,
   "metadata": {},
   "outputs": [
    {
     "data": {
      "image/png": "[encoded data removed]",
      "text/plain": [
       "<Figure size 640x480 with 1 Axes>"
      ]
     },
     "metadata": {},
     "output_type": "display_data"
    }
   ],
   "source": [
    "sns.countplot(data=df, x='query_type', hue='event')\n",
    "plt.title('Распределение событий по типам запросов')\n",
    "plt.xticks(rotation=45)\n",
    "plt.show()\n"
   ]
  },
  {
   "cell_type": "markdown",
   "metadata": {},
   "source": [
    "Все query_type имеют сопоставимое количество search событий. Также можно заметить высокий view в films, но почти без tap (о чем нам и говорят метрики посчитанные выше) Возможно нет кликабельного контента в выдаче после просмотра видео или Неправильный мэтчинг запросов."
   ]
  },
  {
   "cell_type": "markdown",
   "metadata": {},
   "source": [
    "### Небольшая запросная аналитика по films"
   ]
  },
  {
   "cell_type": "code",
   "execution_count": 90,
   "metadata": {},
   "outputs": [
    {
     "name": "stdout",
     "output_type": "stream",
     "text": [
      "query_text\n",
      "альтернативные концовки известных фильмов         25\n",
      "фильмы про искусственный интеллект                23\n",
      "фильмы, снятые в париже                           23\n",
      "самые низкооцененные фильмы на rotten tomatoes    23\n",
      "документальные фильмы про природу                 22\n",
      "русские фильмы про войну                          22\n",
      "золотой глобус номинанты                          21\n",
      "ужасы с высоким рейтингом                         21\n",
      "топ 10 сериалов этого года                        21\n",
      "исполнители ролей в 'игре престолов'              20\n",
      "актеры из фильмов марвел                          20\n",
      "как выбрать проектор для дома                     20\n",
      "документалки, получившие оскар                    19\n",
      "совпадения в киновселенных                        19\n",
      "все фильмы кристофера нолана                      18\n",
      "саундтреки ханса циммера                          18\n",
      "фильмы, которые изменили киноиндустрию            17\n",
      "новинки кино 2024                                 17\n",
      "фильмы в vr-формате                               17\n",
      "драмы про любовь с хорошим концом                 16\n",
      "Name: count, dtype: int64\n"
     ]
    }
   ],
   "source": [
    "# топ самых частых запросов\n",
    "\n",
    "films_df = df[df['query_type'] == 'films']\n",
    "top_queries = films_df[films_df['event'] == 'search']['query_text'].value_counts().head(20)\n",
    "print(top_queries)\n"
   ]
  },
  {
   "cell_type": "code",
   "execution_count": 91,
   "metadata": {},
   "outputs": [
    {
     "data": {
      "text/html": [
       "<div>\n",
       "<style scoped>\n",
       "    .dataframe tbody tr th:only-of-type {\n",
       "        vertical-align: middle;\n",
       "    }\n",
       "\n",
       "    .dataframe tbody tr th {\n",
       "        vertical-align: top;\n",
       "    }\n",
       "\n",
       "    .dataframe thead th {\n",
       "        text-align: right;\n",
       "    }\n",
       "</style>\n",
       "<table border=\"1\" class=\"dataframe\">\n",
       "  <thead>\n",
       "    <tr style=\"text-align: right;\">\n",
       "      <th>event</th>\n",
       "      <th>query_text</th>\n",
       "      <th>like</th>\n",
       "      <th>search</th>\n",
       "      <th>share</th>\n",
       "      <th>subscribe</th>\n",
       "      <th>tap</th>\n",
       "      <th>view</th>\n",
       "      <th>CTR</th>\n",
       "      <th>View Rate</th>\n",
       "      <th>Bounce Rate</th>\n",
       "    </tr>\n",
       "  </thead>\n",
       "  <tbody>\n",
       "    <tr>\n",
       "      <th>1</th>\n",
       "      <td>альтернативные концовки известных фильмов</td>\n",
       "      <td>3</td>\n",
       "      <td>25</td>\n",
       "      <td>8</td>\n",
       "      <td>4</td>\n",
       "      <td>16</td>\n",
       "      <td>9</td>\n",
       "      <td>0.640000</td>\n",
       "      <td>0.360000</td>\n",
       "      <td>4.000000e-11</td>\n",
       "    </tr>\n",
       "    <tr>\n",
       "      <th>19</th>\n",
       "      <td>фильмы, снятые в париже</td>\n",
       "      <td>2</td>\n",
       "      <td>23</td>\n",
       "      <td>4</td>\n",
       "      <td>5</td>\n",
       "      <td>11</td>\n",
       "      <td>8</td>\n",
       "      <td>0.478261</td>\n",
       "      <td>0.347826</td>\n",
       "      <td>1.739130e-01</td>\n",
       "    </tr>\n",
       "    <tr>\n",
       "      <th>17</th>\n",
       "      <td>фильмы про искусственный интеллект</td>\n",
       "      <td>6</td>\n",
       "      <td>23</td>\n",
       "      <td>3</td>\n",
       "      <td>5</td>\n",
       "      <td>17</td>\n",
       "      <td>17</td>\n",
       "      <td>0.739130</td>\n",
       "      <td>0.739130</td>\n",
       "      <td>0.000000e+00</td>\n",
       "    </tr>\n",
       "    <tr>\n",
       "      <th>11</th>\n",
       "      <td>самые низкооцененные фильмы на rotten tomatoes</td>\n",
       "      <td>6</td>\n",
       "      <td>23</td>\n",
       "      <td>5</td>\n",
       "      <td>5</td>\n",
       "      <td>20</td>\n",
       "      <td>17</td>\n",
       "      <td>0.869565</td>\n",
       "      <td>0.739130</td>\n",
       "      <td>0.000000e+00</td>\n",
       "    </tr>\n",
       "    <tr>\n",
       "      <th>10</th>\n",
       "      <td>русские фильмы про войну</td>\n",
       "      <td>4</td>\n",
       "      <td>22</td>\n",
       "      <td>7</td>\n",
       "      <td>3</td>\n",
       "      <td>15</td>\n",
       "      <td>15</td>\n",
       "      <td>0.681818</td>\n",
       "      <td>0.681818</td>\n",
       "      <td>0.000000e+00</td>\n",
       "    </tr>\n",
       "    <tr>\n",
       "      <th>4</th>\n",
       "      <td>документальные фильмы про природу</td>\n",
       "      <td>3</td>\n",
       "      <td>22</td>\n",
       "      <td>4</td>\n",
       "      <td>5</td>\n",
       "      <td>17</td>\n",
       "      <td>21</td>\n",
       "      <td>0.772727</td>\n",
       "      <td>0.954545</td>\n",
       "      <td>0.000000e+00</td>\n",
       "    </tr>\n",
       "    <tr>\n",
       "      <th>6</th>\n",
       "      <td>золотой глобус номинанты</td>\n",
       "      <td>7</td>\n",
       "      <td>21</td>\n",
       "      <td>4</td>\n",
       "      <td>4</td>\n",
       "      <td>14</td>\n",
       "      <td>13</td>\n",
       "      <td>0.666667</td>\n",
       "      <td>0.619048</td>\n",
       "      <td>0.000000e+00</td>\n",
       "    </tr>\n",
       "    <tr>\n",
       "      <th>14</th>\n",
       "      <td>топ 10 сериалов этого года</td>\n",
       "      <td>4</td>\n",
       "      <td>21</td>\n",
       "      <td>3</td>\n",
       "      <td>3</td>\n",
       "      <td>5</td>\n",
       "      <td>11</td>\n",
       "      <td>0.238095</td>\n",
       "      <td>0.523810</td>\n",
       "      <td>2.380952e-01</td>\n",
       "    </tr>\n",
       "    <tr>\n",
       "      <th>15</th>\n",
       "      <td>ужасы с высоким рейтингом</td>\n",
       "      <td>4</td>\n",
       "      <td>21</td>\n",
       "      <td>2</td>\n",
       "      <td>3</td>\n",
       "      <td>18</td>\n",
       "      <td>13</td>\n",
       "      <td>0.857143</td>\n",
       "      <td>0.619048</td>\n",
       "      <td>0.000000e+00</td>\n",
       "    </tr>\n",
       "    <tr>\n",
       "      <th>7</th>\n",
       "      <td>исполнители ролей в 'игре престолов'</td>\n",
       "      <td>3</td>\n",
       "      <td>20</td>\n",
       "      <td>4</td>\n",
       "      <td>5</td>\n",
       "      <td>19</td>\n",
       "      <td>12</td>\n",
       "      <td>0.950000</td>\n",
       "      <td>0.600000</td>\n",
       "      <td>0.000000e+00</td>\n",
       "    </tr>\n",
       "    <tr>\n",
       "      <th>8</th>\n",
       "      <td>как выбрать проектор для дома</td>\n",
       "      <td>2</td>\n",
       "      <td>20</td>\n",
       "      <td>6</td>\n",
       "      <td>4</td>\n",
       "      <td>17</td>\n",
       "      <td>16</td>\n",
       "      <td>0.850000</td>\n",
       "      <td>0.800000</td>\n",
       "      <td>0.000000e+00</td>\n",
       "    </tr>\n",
       "    <tr>\n",
       "      <th>0</th>\n",
       "      <td>актеры из фильмов марвел</td>\n",
       "      <td>6</td>\n",
       "      <td>20</td>\n",
       "      <td>4</td>\n",
       "      <td>5</td>\n",
       "      <td>17</td>\n",
       "      <td>14</td>\n",
       "      <td>0.850000</td>\n",
       "      <td>0.700000</td>\n",
       "      <td>0.000000e+00</td>\n",
       "    </tr>\n",
       "    <tr>\n",
       "      <th>3</th>\n",
       "      <td>документалки, получившие оскар</td>\n",
       "      <td>6</td>\n",
       "      <td>19</td>\n",
       "      <td>4</td>\n",
       "      <td>6</td>\n",
       "      <td>22</td>\n",
       "      <td>12</td>\n",
       "      <td>1.157895</td>\n",
       "      <td>0.631579</td>\n",
       "      <td>0.000000e+00</td>\n",
       "    </tr>\n",
       "    <tr>\n",
       "      <th>13</th>\n",
       "      <td>совпадения в киновселенных</td>\n",
       "      <td>2</td>\n",
       "      <td>19</td>\n",
       "      <td>12</td>\n",
       "      <td>5</td>\n",
       "      <td>20</td>\n",
       "      <td>17</td>\n",
       "      <td>1.052632</td>\n",
       "      <td>0.894737</td>\n",
       "      <td>0.000000e+00</td>\n",
       "    </tr>\n",
       "    <tr>\n",
       "      <th>12</th>\n",
       "      <td>саундтреки ханса циммера</td>\n",
       "      <td>7</td>\n",
       "      <td>18</td>\n",
       "      <td>4</td>\n",
       "      <td>6</td>\n",
       "      <td>17</td>\n",
       "      <td>15</td>\n",
       "      <td>0.944444</td>\n",
       "      <td>0.833333</td>\n",
       "      <td>0.000000e+00</td>\n",
       "    </tr>\n",
       "  </tbody>\n",
       "</table>\n",
       "</div>"
      ],
      "text/plain": [
       "event                                      query_text  like  search  share  \\\n",
       "1           альтернативные концовки известных фильмов     3      25      8   \n",
       "19                            фильмы, снятые в париже     2      23      4   \n",
       "17                 фильмы про искусственный интеллект     6      23      3   \n",
       "11     самые низкооцененные фильмы на rotten tomatoes     6      23      5   \n",
       "10                           русские фильмы про войну     4      22      7   \n",
       "4                   документальные фильмы про природу     3      22      4   \n",
       "6                            золотой глобус номинанты     7      21      4   \n",
       "14                         топ 10 сериалов этого года     4      21      3   \n",
       "15                          ужасы с высоким рейтингом     4      21      2   \n",
       "7                исполнители ролей в 'игре престолов'     3      20      4   \n",
       "8                       как выбрать проектор для дома     2      20      6   \n",
       "0                            актеры из фильмов марвел     6      20      4   \n",
       "3                      документалки, получившие оскар     6      19      4   \n",
       "13                         совпадения в киновселенных     2      19     12   \n",
       "12                           саундтреки ханса циммера     7      18      4   \n",
       "\n",
       "event  subscribe  tap  view       CTR  View Rate   Bounce Rate  \n",
       "1              4   16     9  0.640000   0.360000  4.000000e-11  \n",
       "19             5   11     8  0.478261   0.347826  1.739130e-01  \n",
       "17             5   17    17  0.739130   0.739130  0.000000e+00  \n",
       "11             5   20    17  0.869565   0.739130  0.000000e+00  \n",
       "10             3   15    15  0.681818   0.681818  0.000000e+00  \n",
       "4              5   17    21  0.772727   0.954545  0.000000e+00  \n",
       "6              4   14    13  0.666667   0.619048  0.000000e+00  \n",
       "14             3    5    11  0.238095   0.523810  2.380952e-01  \n",
       "15             3   18    13  0.857143   0.619048  0.000000e+00  \n",
       "7              5   19    12  0.950000   0.600000  0.000000e+00  \n",
       "8              4   17    16  0.850000   0.800000  0.000000e+00  \n",
       "0              5   17    14  0.850000   0.700000  0.000000e+00  \n",
       "3              6   22    12  1.157895   0.631579  0.000000e+00  \n",
       "13             5   20    17  1.052632   0.894737  0.000000e+00  \n",
       "12             6   17    15  0.944444   0.833333  0.000000e+00  "
      ]
     },
     "execution_count": 91,
     "metadata": {},
     "output_type": "execute_result"
    }
   ],
   "source": [
    "top_query_texts = top_queries.index.tolist()\n",
    "films_top_df = films_df[films_df['query_text'].isin(top_query_texts)]\n",
    "\n",
    "actions_by_query = (\n",
    "    films_top_df\n",
    "    .groupby(['query_text', 'event'])['query_id']\n",
    "    .count()\n",
    "    .unstack(fill_value=0)\n",
    "    .reset_index()\n",
    ")\n",
    "\n",
    "search_counts = actions_by_query['search'] + 1e-9\n",
    "\n",
    "actions_by_query['CTR'] = actions_by_query['tap'] / search_counts\n",
    "actions_by_query['View Rate'] = actions_by_query['view'] / search_counts\n",
    "\n",
    "engaged = actions_by_query['tap'] + actions_by_query['view']\n",
    "actions_by_query['Bounce Rate'] = (1 - engaged / search_counts).clip(lower=0, upper=1)\n",
    "\n",
    "actions_by_query = actions_by_query.sort_values(by='search', ascending=False)\n",
    "actions_by_query.head(15)\n"
   ]
  },
  {
   "cell_type": "code",
   "execution_count": 93,
   "metadata": {},
   "outputs": [
    {
     "data": {
      "image/png": "[encoded data removed]",
      "text/plain": [
       "<Figure size 1200x500 with 1 Axes>"
      ]
     },
     "metadata": {},
     "output_type": "display_data"
    }
   ],
   "source": [
    "plt.figure(figsize=(12, 5))\n",
    "\n",
    "sns.boxplot(data=df, x='query_type', y='click_position')\n",
    "plt.title('Позиция клика по типу запроса')\n",
    "plt.xticks(rotation=45)\n",
    "plt.show()\n",
    "\n"
   ]
  },
  {
   "cell_type": "markdown",
   "metadata": {},
   "source": [
    "\n",
    "Фильмы и шоу получают клики в более начальных позициях. Новости — наиболее «глубоко» прокручиваемый тип контента (медиана ~12, максимальный размах). У фильмов и шоу есть выбросы, что может говорить о более редком интересе к менее релевантным результатам.\n",
    "\n"
   ]
  },
  {
   "cell_type": "code",
   "execution_count": 94,
   "metadata": {},
   "outputs": [
    {
     "data": {
      "image/png": "[encoded data removed]",
      "text/plain": [
       "<Figure size 640x480 with 1 Axes>"
      ]
     },
     "metadata": {},
     "output_type": "display_data"
    }
   ],
   "source": [
    "\n",
    "sns.boxplot(data=df[df['event'] == 'view'], x='query_type', y='view_time')\n",
    "plt.title('Время просмотра по типу запроса')\n",
    "plt.xticks(rotation=45)\n",
    "plt.show()"
   ]
  },
  {
   "cell_type": "markdown",
   "metadata": {},
   "source": [
    "Фильмы — абсолютные лидеры по продолжительности просмотра.Новости — самый краткий тип потребления, возможно, пользователи читают заголовки или краткие материалы. У музыки и новостей заметны выбросы — кто-то может слушать/смотреть долго, но это скорее исключения.\n",
    "\n"
   ]
  },
  {
   "cell_type": "code",
   "execution_count": 96,
   "metadata": {},
   "outputs": [
    {
     "data": {
      "image/png": "[encoded data removed]",
      "text/plain": [
       "<Figure size 640x480 with 1 Axes>"
      ]
     },
     "metadata": {},
     "output_type": "display_data"
    }
   ],
   "source": [
    "sns.boxplot(data=df, x='platform', y='click_position')\n",
    "plt.title('Платформа и позиция клика')\n",
    "plt.xticks(rotation=45)\n",
    "plt.show()\n"
   ]
  },
  {
   "cell_type": "markdown",
   "metadata": {},
   "source": [
    "TV-платформы (android_tv, smart_tv) — пользователи кликают на первые результаты. Web-пользователи — кликают глубже, возможно, из-за удобства прокрутки и более широкого экрана. Мобильные платформы (android, iphone): клики в пределах первых 5–10 позиций.\n",
    "\n"
   ]
  },
  {
   "cell_type": "markdown",
   "metadata": {},
   "source": [
    "### Выводы"
   ]
  },
  {
   "cell_type": "markdown",
   "metadata": {},
   "source": [
    "\n",
    "\n",
    "### 1. Сводная картина вовлеченности\n",
    "\n",
    "| Метрика                   | Значение                                    |\n",
    "|---------------------------|---------------------------------------------|\n",
    "| Средний CTR (tap/search)  | < 1 % (0.4–1.0 %) для большинства сегментов |\n",
    "| Средний Bounce‑rate       | 43–58 % в зависимости от категории запросов  |\n",
    "| Среднее time‑on‑site (view) | 56–88 мин в зависимости от длины запроса  |\n",
    "| Среднее позиция клика     | 7–8                                        |\n",
    "\n",
    "---\n",
    "\n",
    "### 2. Проблемные зоны\n",
    "\n",
    "1. **Категории запросов**  \n",
    "   - **Show (58 % bounce)** и **Music (53 %)** — худшие по «отскоку».  \n",
    "   - **Films**: 1 258 поисков и **0 кликов/просмотров** за сессию → явная проблема таргетинга или маппинга запросов.\n",
    "\n",
    "2. **Платформы**  \n",
    "   - На **Android** и **Web** bounce ≈ 52–53 %.  \n",
    "   - Разница между мобильными и TV‑платформами не превышает 6 п.п. ⇒ основная беда в выдаче и превью.\n",
    "\n",
    "3. **Возрастные группы**  \n",
    "   - Наиболее «отскакивают» **18–24** и **25–34** (52.3 %).  \n",
    "   - Старшие и дети чуть лучше (≈50 %), но тоже далеко от идеала.\n",
    "\n",
    "4. **Длина запроса**  \n",
    "   - **Q1 (короткие)**: 3 386 с средний view_time.  \n",
    "   - **Q4 (длинные)**: 5 288 с.  \n",
    "   - короткие, неинформативные запросы дают самое слабое удержание.\n",
    "\n",
    "\n",
    "---\n",
    "\n",
    "### 3. Точки роста и рекомендации\n",
    "\n",
    "1. **Улучшить релевантность ранжирования**  \n",
    "\n",
    "2. **Оптимизировать UX коротких запросов**  \n",
    "\n",
    "3. **Фокус на категориях Show и Music**  \n",
    "\n",
    "4. **Персонализация для аудитории 18–34**  \n"
   ]
  }
 ],
 "metadata": {
  "kernelspec": {
   "display_name": "Python 3",
   "language": "python",
   "name": "python3"
  },
  "language_info": {
   "codemirror_mode": {
    "name": "ipython",
    "version": 3
   },
   "file_extension": ".py",
   "mimetype": "text/x-python",
   "name": "python",
   "nbconvert_exporter": "python",
   "pygments_lexer": "ipython3",
   "version": "3.10.12"
  }
 },
 "nbformat": 4,
 "nbformat_minor": 2
}
